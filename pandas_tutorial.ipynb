{
 "cells": [
  {
   "cell_type": "code",
   "execution_count": 3,
   "metadata": {},
   "outputs": [
    {
     "data": {
      "text/plain": [
       "'1.0.3'"
      ]
     },
     "execution_count": 3,
     "metadata": {},
     "output_type": "execute_result"
    }
   ],
   "source": [
    "import pandas as pd\n",
    "pd.__version__"
   ]
  },
  {
   "cell_type": "markdown",
   "metadata": {},
   "source": [
    "#### task 1 : 두 column을 합쳐서 한 column으로 만들기"
   ]
  },
  {
   "cell_type": "markdown",
   "metadata": {},
   "source": [
    "#### method 1"
   ]
  },
  {
   "cell_type": "code",
   "execution_count": 2,
   "metadata": {},
   "outputs": [
    {
     "name": "stdout",
     "output_type": "stream",
     "text": [
      "   id  rack_id  bank_id\n",
      "0   1        1        1\n",
      "1   2        5        3\n",
      "2   3        4        3\n",
      "3   4        3        3\n",
      "4   5        2        3\n"
     ]
    }
   ],
   "source": [
    "df = pd.DataFrame(data={\"id\":[1,2,3,4,5], \"rack_id\":[1,5,4,3,2], \"bank_id\":[1,3,3,3,3]})\n",
    "print(df)"
   ]
  },
  {
   "cell_type": "code",
   "execution_count": 3,
   "metadata": {},
   "outputs": [
    {
     "name": "stdout",
     "output_type": "stream",
     "text": [
      "---------- result ----------\n",
      "   id rack_bank_id\n",
      "0   1          1_1\n",
      "1   2          5_3\n",
      "2   3          4_3\n",
      "3   4          3_3\n",
      "4   5          2_3\n"
     ]
    }
   ],
   "source": [
    "df[\"rack_bank_id\"] = df[\"rack_id\"].astype(str) + str(\"_\") + df[\"bank_id\"].astype(str)\n",
    "df = df.drop([\"rack_id\", \"bank_id\"], axis=1)\n",
    "print(\"---------- result ----------\")\n",
    "print(df)"
   ]
  },
  {
   "cell_type": "markdown",
   "metadata": {},
   "source": [
    "#### method 2"
   ]
  },
  {
   "cell_type": "code",
   "execution_count": 4,
   "metadata": {},
   "outputs": [
    {
     "name": "stdout",
     "output_type": "stream",
     "text": [
      "   id  rack_id  bank_id\n",
      "0   1        1        1\n",
      "1   2        5        3\n",
      "2   3        4        3\n",
      "3   4        3        3\n",
      "4   5        2        3\n"
     ]
    }
   ],
   "source": [
    "df = pd.DataFrame(data={\"id\":[1,2,3,4,5], \"rack_id\":[1,5,4,3,2], \"bank_id\":[1,3,3,3,3]})\n",
    "print(df)"
   ]
  },
  {
   "cell_type": "code",
   "execution_count": 5,
   "metadata": {},
   "outputs": [],
   "source": [
    "df2 = df[\"rack_id\"].astype(str) + str(\"_\") + df[\"bank_id\"].astype(str)"
   ]
  },
  {
   "cell_type": "code",
   "execution_count": 6,
   "metadata": {},
   "outputs": [
    {
     "data": {
      "text/html": [
       "<div>\n",
       "<style scoped>\n",
       "    .dataframe tbody tr th:only-of-type {\n",
       "        vertical-align: middle;\n",
       "    }\n",
       "\n",
       "    .dataframe tbody tr th {\n",
       "        vertical-align: top;\n",
       "    }\n",
       "\n",
       "    .dataframe thead th {\n",
       "        text-align: right;\n",
       "    }\n",
       "</style>\n",
       "<table border=\"1\" class=\"dataframe\">\n",
       "  <thead>\n",
       "    <tr style=\"text-align: right;\">\n",
       "      <th></th>\n",
       "      <th>rack_bank_id</th>\n",
       "    </tr>\n",
       "  </thead>\n",
       "  <tbody>\n",
       "    <tr>\n",
       "      <th>0</th>\n",
       "      <td>1_1</td>\n",
       "    </tr>\n",
       "    <tr>\n",
       "      <th>1</th>\n",
       "      <td>5_3</td>\n",
       "    </tr>\n",
       "    <tr>\n",
       "      <th>2</th>\n",
       "      <td>4_3</td>\n",
       "    </tr>\n",
       "    <tr>\n",
       "      <th>3</th>\n",
       "      <td>3_3</td>\n",
       "    </tr>\n",
       "    <tr>\n",
       "      <th>4</th>\n",
       "      <td>2_3</td>\n",
       "    </tr>\n",
       "  </tbody>\n",
       "</table>\n",
       "</div>"
      ],
      "text/plain": [
       "  rack_bank_id\n",
       "0          1_1\n",
       "1          5_3\n",
       "2          4_3\n",
       "3          3_3\n",
       "4          2_3"
      ]
     },
     "execution_count": 6,
     "metadata": {},
     "output_type": "execute_result"
    }
   ],
   "source": [
    "pd.DataFrame(data={\"rack_bank_id\":df2})"
   ]
  },
  {
   "cell_type": "code",
   "execution_count": 7,
   "metadata": {},
   "outputs": [],
   "source": [
    "df = df.drop([\"rack_id\", \"bank_id\"], axis=1)"
   ]
  },
  {
   "cell_type": "code",
   "execution_count": 8,
   "metadata": {},
   "outputs": [
    {
     "name": "stdout",
     "output_type": "stream",
     "text": [
      "---------- result ----------\n",
      "   id rack_bank_id\n",
      "0   1          1_1\n",
      "1   2          5_3\n",
      "2   3          4_3\n",
      "3   4          3_3\n",
      "4   5          2_3\n"
     ]
    }
   ],
   "source": [
    "df = pd.concat([df, pd.DataFrame(data={\"rack_bank_id\":df2})], axis=1)\n",
    "print(\"---------- result ----------\")\n",
    "print(df)"
   ]
  },
  {
   "cell_type": "markdown",
   "metadata": {},
   "source": [
    "#### task 2 : 특정 column 값을 기준으로 여러개 plot  겹쳐 그리기"
   ]
  },
  {
   "cell_type": "code",
   "execution_count": 49,
   "metadata": {},
   "outputs": [
    {
     "name": "stdout",
     "output_type": "stream",
     "text": [
      "   x  y  label\n",
      "0  1  1      1\n",
      "1  2  2      1\n",
      "2  3  3      1\n",
      "3  4  4      1\n",
      "4  1  4      2\n",
      "5  2  3      2\n",
      "6  3  2      2\n",
      "7  4  1      2\n"
     ]
    }
   ],
   "source": [
    "df = pd.DataFrame(data={\"x\":[1,2,3,4,1,2,3,4], \"y\":[1,2,3,4,4,3,2,1], \"label\":[1,1,1,1,2,2,2,2]})\n",
    "print(df)"
   ]
  },
  {
   "cell_type": "code",
   "execution_count": 50,
   "metadata": {},
   "outputs": [
    {
     "data": {
      "text/plain": [
       "<matplotlib.axes._subplots.AxesSubplot at 0x11c40ba90>"
      ]
     },
     "execution_count": 50,
     "metadata": {},
     "output_type": "execute_result"
    },
    {
     "data": {
      "image/png": "[encoded data removed]",
      "text/plain": [
       "<Figure size 432x288 with 1 Axes>"
      ]
     },
     "metadata": {
      "needs_background": "light"
     },
     "output_type": "display_data"
    }
   ],
   "source": [
    "ax = df[df[\"label\"]==1].plot(x=\"x\", y=\"y\", label=\"label 1\")\n",
    "df[df[\"label\"]==2].plot(x=\"x\", y=\"y\", ax=ax, label=\"label 2\")"
   ]
  },
  {
   "cell_type": "code",
   "execution_count": 53,
   "metadata": {},
   "outputs": [
    {
     "data": {
      "text/plain": [
       "<matplotlib.patches.Polygon at 0x11c6e6910>"
      ]
     },
     "execution_count": 53,
     "metadata": {},
     "output_type": "execute_result"
    },
    {
     "data": {
      "image/png": "[encoded data removed]",
      "text/plain": [
       "<Figure size 432x288 with 1 Axes>"
      ]
     },
     "metadata": {
      "needs_background": "light"
     },
     "output_type": "display_data"
    }
   ],
   "source": [
    "ax = df[df[\"label\"]==1].plot(x=\"x\", y=\"y\", label=\"label 1\")\n",
    "df[df[\"label\"]==2].plot(x=\"x\", y=\"y\", ax=ax, label=\"label 2\")\n",
    "ax.axvspan(1,2)"
   ]
  },
  {
   "cell_type": "code",
   "execution_count": null,
   "metadata": {},
   "outputs": [],
   "source": []
  }
 ],
 "metadata": {
  "kernelspec": {
   "display_name": "Python 3",
   "language": "python",
   "name": "python3"
  },
  "language_info": {
   "codemirror_mode": {
    "name": "ipython",
    "version": 3
   },
   "file_extension": ".py",
   "mimetype": "text/x-python",
   "name": "python",
   "nbconvert_exporter": "python",
   "pygments_lexer": "ipython3",
   "version": "3.7.6"
  }
 },
 "nbformat": 4,
 "nbformat_minor": 4
}
